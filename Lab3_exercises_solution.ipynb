{
  "cells": [
    {
      "cell_type": "markdown",
      "source": [
        "##2. Weblog Analysis\n",
        "\n",
        "Consider a set of log files captured during a DDOS (*Distributed Denial of Service*) attack, containing information for the web accesses performed during the attack to the server.\n",
        "\n",
        "Create a new notebook that processes the log of web entries using MrJob and map-reduce to:\n",
        "\n",
        "1. Count the number of unique IP addresses involved in the DDOS attack.\n",
        "\n",
        "2. For each interval of 10 seconds, provide the following information: [number of requests, average execution time, maximum time, minimum time]\n",
        "\n",
        "3. Create an inverted index that, for each interval of 10 seconds, has a list of (unique) IPs executing accesses (to each URL).\n",
        "\n",
        "\n",
        "The log files contain text lines as shown below, with SPACE as the separator:\n",
        "\n",
        "date |IP_source | status_code | operation | URL | execution time |\n",
        "-|-|-|-|-|-\n",
        "timestamp  | string | int | string | string| float |\n",
        "2016-12-06T08:58:35.318+0000|37.139.9.11|404|GET|/codemove/TTCENCUFMH3C|0.026\n",
        "\n",
        "<br>\n",
        "The log can be downloaded from:\n",
        "\n",
        "[https://www.dropbox.com/s/0r8902uj9yum7dg/web.log?dl=0](https://www.dropbox.com/s/0r8902uj9yum7dg/web.log?dl=0)\n",
        "\n",
        "Suggestion: to start, make a copy an existing notebook and modify it.\n",
        "\n",
        "If you really must..., you can use [dateutil.parser](https://dateutil.readthedocs.io/en/stable/parser.html) for decoding timestamps."
      ],
      "metadata": {
        "id": "6CsK5ie3Osec"
      }
    },
    {
      "cell_type": "code",
      "source": [
        "#@title Download the input file\n",
        "!pip install mrjob --quiet\n",
        "!wget -q -O weblog.txt https://www.dropbox.com/s/0r8902uj9yum7dg/web.log?dl=0"
      ],
      "metadata": {
        "id": "z7TVcw3oQFcT",
        "colab": {
          "base_uri": "https://localhost:8080/"
        },
        "outputId": "9bec60ad-5ba8-43f2-f988-29e65bad474b"
      },
      "execution_count": 1,
      "outputs": [
        {
          "output_type": "stream",
          "name": "stdout",
          "text": [
            "\u001b[?25l   \u001b[90m━━━━━━━━━━━━━━━━━━━━━━━━━━━━━━━━━━━━━━━━\u001b[0m \u001b[32m0.0/439.6 kB\u001b[0m \u001b[31m?\u001b[0m eta \u001b[36m-:--:--\u001b[0m\r\u001b[2K   \u001b[91m━━━━━━━━━━━━━━━━━━━━━━━━━━━━━━━━━━━━━━━\u001b[0m\u001b[90m╺\u001b[0m \u001b[32m430.1/439.6 kB\u001b[0m \u001b[31m14.6 MB/s\u001b[0m eta \u001b[36m0:00:01\u001b[0m\r\u001b[2K   \u001b[90m━━━━━━━━━━━━━━━━━━━━━━━━━━━━━━━━━━━━━━━━\u001b[0m \u001b[32m439.6/439.6 kB\u001b[0m \u001b[31m8.7 MB/s\u001b[0m eta \u001b[36m0:00:00\u001b[0m\n",
            "\u001b[?25h"
          ]
        }
      ]
    },
    {
      "cell_type": "markdown",
      "source": [
        "## Pure Python Solution"
      ],
      "metadata": {
        "id": "hAQaXCT-Um7N"
      }
    },
    {
      "cell_type": "code",
      "source": [
        "#@title Exercise 2a)\n",
        "unique_ips = set()\n",
        "\n",
        "with open(\"weblog.txt\") as f:\n",
        "    for line in f:\n",
        "        parts = line.split()\n",
        "        if len(parts) >= 2:   # make sure the line has at least date + IP\n",
        "            ip = parts[1]\n",
        "            unique_ips.add(ip)\n",
        "\n",
        "print(\"Number of unique IPs:\", len(unique_ips))\n"
      ],
      "metadata": {
        "id": "R0qtbq6zPA5f",
        "colab": {
          "base_uri": "https://localhost:8080/"
        },
        "outputId": "08005f8c-7361-4009-f78a-eb845ee3b5be"
      },
      "execution_count": 2,
      "outputs": [
        {
          "output_type": "stream",
          "name": "stdout",
          "text": [
            "Number of unique IPs: 167\n"
          ]
        }
      ]
    },
    {
      "cell_type": "markdown",
      "source": [
        "## MrJob MapReduce Solutions"
      ],
      "metadata": {
        "id": "VrfdsIZOUgs-"
      }
    },
    {
      "cell_type": "code",
      "source": [
        "#@title Exercise 2a)\n",
        "%%file weblog_stats_2a.py\n",
        "\n",
        "from mrjob.job import MRJob, MRStep\n",
        "\n",
        "class MRWebLogStats2a(MRJob):\n",
        "\n",
        "  def mapper1(self, _, line):\n",
        "      parts = line.split()\n",
        "      if len(parts) >= 2:   # make sure the line has at least date + IP\n",
        "            ip = parts[1]\n",
        "            yield ip, None\n",
        "\n",
        "  def combiner1(self, ip, _):\n",
        "      yield ip, None\n",
        "\n",
        "  def reducer1(self, ip, _):\n",
        "      yield None, 1\n",
        "\n",
        "  def reducer2(self, _, ips):\n",
        "      yield \"Unique Ips\", sum(ips)\n",
        "\n",
        "  def steps(self):\n",
        "    return [ MRStep(mapper=self.mapper1, combiner=self.combiner1, reducer=self.reducer1),\n",
        "             MRStep(reducer=self.reducer2)]\n",
        "\n",
        "if __name__ == '__main__':\n",
        "    MRWebLogStats2a.run()"
      ],
      "metadata": {
        "id": "hTpnAjifa9tk",
        "colab": {
          "base_uri": "https://localhost:8080/"
        },
        "outputId": "85e92b2b-cc03-41b2-f70b-51fe01af1cfd"
      },
      "execution_count": 3,
      "outputs": [
        {
          "output_type": "stream",
          "name": "stdout",
          "text": [
            "Writing weblog_stats_2a.py\n"
          ]
        }
      ]
    },
    {
      "cell_type": "code",
      "source": [
        "!rm -rf results\n",
        "!python3 -m weblog_stats_2a -r local --output-dir results --cleanup NONE weblog.txt\n",
        "!cat results/* | head -10"
      ],
      "metadata": {
        "id": "35e6ItsNkC7g",
        "colab": {
          "base_uri": "https://localhost:8080/"
        },
        "outputId": "7d3eaeeb-3dec-4da5-a6bf-6d7d5fe54828"
      },
      "execution_count": 4,
      "outputs": [
        {
          "output_type": "stream",
          "name": "stdout",
          "text": [
            "No configs found; falling back on auto-configuration\n",
            "No configs specified for local runner\n",
            "Creating temp directory /tmp/weblog_stats_2a.root.20251014.084926.117949\n",
            "Running step 1 of 2...\n",
            "Running step 2 of 2...\n",
            "job output is in results\n",
            "\"Unique Ips\"\t167\n"
          ]
        }
      ]
    },
    {
      "cell_type": "code",
      "source": [
        "#@title Exercise 2b) version 1\n",
        "%%file weblog_stats_2b_v1.py\n",
        "\n",
        "from mrjob.job import MRJob, MRStep\n",
        "from statistics import mean\n",
        "\n",
        "class MRWebLogStats2b_V1(MRJob):\n",
        "\n",
        "  def mapper(self, _, line):\n",
        "      parts = line.split()\n",
        "      if len(parts) == 6:   # make sure the line is complete\n",
        "            timestamp = parts[0]\n",
        "            execution_time = float(parts[5])\n",
        "\n",
        "            time_interval_10s = timestamp[0:18]\n",
        "            yield time_interval_10s, execution_time\n",
        "\n",
        "  def reducer(self, interval, execution_times):\n",
        "      values = list(execution_times)\n",
        "      yield interval, \"count: {}, min: {}, max: {}, avg: {}\".format(len(values), min(values), max(values), mean(values))\n",
        "\n",
        "if __name__ == '__main__':\n",
        "    MRWebLogStats2b_V1.run()"
      ],
      "metadata": {
        "id": "QPT00N0da93K",
        "colab": {
          "base_uri": "https://localhost:8080/"
        },
        "outputId": "50b1f070-4b35-4b47-ddda-f8cb438c2682"
      },
      "execution_count": 5,
      "outputs": [
        {
          "output_type": "stream",
          "name": "stdout",
          "text": [
            "Writing weblog_stats_2b_v1.py\n"
          ]
        }
      ]
    },
    {
      "cell_type": "code",
      "source": [
        "!rm -rf results\n",
        "!python3 -m weblog_stats_2b_v1 -r local --output-dir results --cleanup NONE weblog.txt\n",
        "!cat results/* | head -10"
      ],
      "metadata": {
        "id": "IWXj1GOakEup",
        "colab": {
          "base_uri": "https://localhost:8080/"
        },
        "outputId": "13857952-77d7-4c38-e5fd-0b45c5b8b52c"
      },
      "execution_count": 6,
      "outputs": [
        {
          "output_type": "stream",
          "name": "stdout",
          "text": [
            "No configs found; falling back on auto-configuration\n",
            "No configs specified for local runner\n",
            "Creating temp directory /tmp/weblog_stats_2b_v1.root.20251014.084948.005824\n",
            "Running step 1 of 1...\n",
            "job output is in results\n",
            "\"2016-12-06T08:58:3\"\t\"count: 483, min: 0.013, max: 46.849, avg: 7.593424430641822\"\n",
            "\"2016-12-06T08:58:4\"\t\"count: 2611, min: 0.014, max: 69.654, avg: 30.15984565300651\"\n",
            "\"2016-12-06T08:58:5\"\t\"count: 5500, min: 0.017, max: 80.846, avg: 38.52511163636364\"\n",
            "\"2016-12-06T08:59:0\"\t\"count: 6914, min: 0.018, max: 81.659, avg: 38.534382123228234\"\n",
            "\"2016-12-06T08:59:1\"\t\"count: 6271, min: 0.017, max: 83.993, avg: 32.96384978472333\"\n",
            "\"2016-12-06T08:59:2\"\t\"count: 5434, min: 0.051, max: 77.967, avg: 17.29333143172617\"\n",
            "\"2016-12-06T08:59:3\"\t\"count: 8015, min: 0.056, max: 67.441, avg: 11.21015221459763\"\n",
            "\"2016-12-06T08:59:4\"\t\"count: 7947, min: 0.914, max: 65.706, avg: 7.7618157795394485\"\n",
            "\"2016-12-06T08:59:5\"\t\"count: 5983, min: 0.678, max: 54.29, avg: 3.8216643824168477\"\n",
            "\"2016-12-06T09:00:0\"\t\"count: 6882, min: 0.017, max: 45.314, avg: 8.649971519907004\"\n"
          ]
        }
      ]
    },
    {
      "cell_type": "code",
      "source": [
        "#@title Exercise 2b) version 2\n",
        "%%file weblog_stats_2b_v2.py\n",
        "\n",
        "from mrjob.job import MRJob, MRStep\n",
        "\n",
        "class MRWebLogStats2b_V2(MRJob):\n",
        "\n",
        "  def mapper(self, _, line):\n",
        "      parts = line.split()\n",
        "      if len(parts) == 6:   # make sure the line is complete\n",
        "            timestamp = parts[0]\n",
        "            execution_time = float(parts[5])\n",
        "\n",
        "            time_interval_10s = timestamp[0:18]\n",
        "            yield time_interval_10s, (1, execution_time, execution_time, execution_time)\n",
        "\n",
        "  def combiner(self, interval, execution_times):\n",
        "    values = list(execution_times)\n",
        "\n",
        "    requests = sum([x[0] for x in values])\n",
        "    min_time = min([x[1] for x in values])\n",
        "    max_time = max([x[2] for x in values])\n",
        "    sum_time = sum([x[3] for x in values])\n",
        "    yield interval, (requests, min_time, max_time, sum_time)\n",
        "\n",
        "  def reducer(self, interval, execution_times):\n",
        "    values = list(execution_times)\n",
        "\n",
        "    requests = sum([x[0] for x in values])\n",
        "    min_time = min([x[1] for x in values])\n",
        "    max_time = max([x[2] for x in values])\n",
        "    sum_time = sum([x[3] for x in values])\n",
        "\n",
        "    yield interval, \"count: {}, min: {}, max: {}, avg: {}\".format(requests, min_time, max_time, sum_time/requests)\n",
        "\n",
        "if __name__ == '__main__':\n",
        "    MRWebLogStats2b_V2.run()"
      ],
      "metadata": {
        "colab": {
          "base_uri": "https://localhost:8080/"
        },
        "id": "EoE_m6f9bnGQ",
        "outputId": "7d3c1b78-d462-47d1-b680-7667c86cb4fc"
      },
      "execution_count": 7,
      "outputs": [
        {
          "output_type": "stream",
          "name": "stdout",
          "text": [
            "Writing weblog_stats_2b_v2.py\n"
          ]
        }
      ]
    },
    {
      "cell_type": "code",
      "source": [
        "!rm -rf results\n",
        "!python3 -m weblog_stats_2b_v2 -r local --output-dir results --cleanup NONE weblog.txt\n",
        "!cat results/* | head -10"
      ],
      "metadata": {
        "colab": {
          "base_uri": "https://localhost:8080/"
        },
        "id": "SAOjNDdKdGd9",
        "outputId": "39a7426d-bc29-468d-bb15-de48dff69fd8"
      },
      "execution_count": null,
      "outputs": [
        {
          "output_type": "stream",
          "name": "stdout",
          "text": [
            "No configs found; falling back on auto-configuration\n",
            "No configs specified for local runner\n",
            "Creating temp directory /tmp/weblog_stats_2b_v2.root.20251007.190536.627056\n",
            "Running step 1 of 1...\n",
            "job output is in results\n",
            "\"2016-12-06T08:58:3\"\t\"count: 483, min: 0.013, max: 46.849, avg: 7.5934244306418215\"\n",
            "\"2016-12-06T08:58:4\"\t\"count: 2611, min: 0.014, max: 69.654, avg: 30.159845653006514\"\n",
            "\"2016-12-06T08:58:5\"\t\"count: 5500, min: 0.017, max: 80.846, avg: 38.52511163636364\"\n",
            "\"2016-12-06T08:59:0\"\t\"count: 6914, min: 0.018, max: 81.659, avg: 38.534382123228234\"\n",
            "\"2016-12-06T08:59:1\"\t\"count: 6271, min: 0.017, max: 83.993, avg: 32.96384978472333\"\n",
            "\"2016-12-06T08:59:2\"\t\"count: 5434, min: 0.051, max: 77.967, avg: 17.29333143172617\"\n",
            "\"2016-12-06T08:59:3\"\t\"count: 8015, min: 0.056, max: 67.441, avg: 11.21015221459763\"\n",
            "\"2016-12-06T08:59:4\"\t\"count: 7947, min: 0.914, max: 65.706, avg: 7.761815779539449\"\n",
            "\"2016-12-06T08:59:5\"\t\"count: 5983, min: 0.678, max: 54.29, avg: 3.8216643824168477\"\n",
            "\"2016-12-06T09:00:0\"\t\"count: 6882, min: 0.017, max: 45.314, avg: 8.649971519907004\"\n"
          ]
        }
      ]
    },
    {
      "cell_type": "code",
      "source": [
        "#@title Exercise 2c)\n",
        "%%file weblog_stats_2c.py\n",
        "\n",
        "from mrjob.job import MRJob, MRStep\n",
        "\n",
        "class MRWebLogStats2c(MRJob):\n",
        "\n",
        "  def mapper(self, _, line):\n",
        "      parts = line.split()\n",
        "      if len(parts) == 6:   # make sure the line is complete\n",
        "            timestamp = parts[0]\n",
        "            ip = parts[1]\n",
        "            url = parts[4]\n",
        "            time_interval_10s = timestamp[0:18]\n",
        "            yield \"{}-{}\".format(time_interval_10s, url), ip\n",
        "\n",
        "  def combiner(self, interval_key, ips):\n",
        "      for ip in set(ips):\n",
        "        yield interval_key, ip\n",
        "\n",
        "  def reducer(self, interval_key, ips):\n",
        "    yield interval_key, list(set(ips))\n",
        "\n",
        "if __name__ == '__main__':\n",
        "    MRWebLogStats2c.run()"
      ],
      "metadata": {
        "id": "JVavI21gLSwd",
        "colab": {
          "base_uri": "https://localhost:8080/"
        },
        "outputId": "82ea5aae-4dc8-4b82-9a8a-525b019b64f1"
      },
      "execution_count": null,
      "outputs": [
        {
          "output_type": "stream",
          "name": "stdout",
          "text": [
            "Writing weblog_stats_2c.py\n"
          ]
        }
      ]
    },
    {
      "cell_type": "code",
      "source": [
        "!rm -rf results\n",
        "!python3 -m weblog_stats_2c -r local --output-dir results --cleanup NONE weblog.txt\n",
        "!head -10 results/*"
      ],
      "metadata": {
        "id": "pukEKm5JLp8t",
        "colab": {
          "base_uri": "https://localhost:8080/"
        },
        "outputId": "9cfa8068-6277-4427-d8c2-27662f541f8f"
      },
      "execution_count": null,
      "outputs": [
        {
          "output_type": "stream",
          "name": "stdout",
          "text": [
            "No configs found; falling back on auto-configuration\n",
            "No configs specified for local runner\n",
            "Creating temp directory /tmp/weblog_stats_2c.root.20251007.190608.392761\n",
            "Running step 1 of 1...\n",
            "job output is in results\n",
            "==> results/part-00000 <==\n",
            "\"2016-12-06T08:58:3-/codemove/01IX95N3AFP4\"\t[\"120.52.73.98\"]\n",
            "\"2016-12-06T08:58:3-/codemove/0GLNQSHCISWJ\"\t[\"120.52.73.98\"]\n",
            "\"2016-12-06T08:58:3-/codemove/1N80W0N2R36C\"\t[\"120.52.73.97\"]\n",
            "\"2016-12-06T08:58:3-/codemove/1U6HCG3V2S9D\"\t[\"185.28.193.95\"]\n",
            "\"2016-12-06T08:58:3-/codemove/2CEBGK8M78Y7\"\t[\"192.241.151.220\"]\n",
            "\"2016-12-06T08:58:3-/codemove/5Q9SRR2G46PJ\"\t[\"120.52.73.98\"]\n",
            "\"2016-12-06T08:58:3-/codemove/6GTXIA9YHX09\"\t[\"120.52.73.98\"]\n",
            "\"2016-12-06T08:58:3-/codemove/7HIW17K7FDZI\"\t[\"97.77.104.22\"]\n",
            "\"2016-12-06T08:58:3-/codemove/B35MFVKMU1C4\"\t[\"2002:894a:3a93:d:250:56ff:fe00:88c0\"]\n",
            "\"2016-12-06T08:58:3-/codemove/BJJHJB8J8T7C\"\t[\"120.52.73.97\"]\n",
            "\n",
            "==> results/part-00001 <==\n",
            "\"2016-12-06T08:59:4-/codemove/JO322U2THUS7\"\t[\"94.177.171.187\"]\n",
            "\"2016-12-06T08:59:4-/codemove/JP3RXREBSB1B\"\t[\"97.77.104.22\"]\n",
            "\"2016-12-06T08:59:4-/codemove/JTWJCC0F6X9M\"\t[\"120.52.73.97\"]\n",
            "\"2016-12-06T08:59:4-/codemove/JY6F5D8C8U6S\"\t[\"120.52.73.98\"]\n",
            "\"2016-12-06T08:59:4-/codemove/JZQ3XCTRQF86\"\t[\"2602:ff62:104:7c9:8000::\"]\n",
            "\"2016-12-06T08:59:4-/codemove/K7L3XDX7EHZP\"\t[\"120.52.73.97\"]\n",
            "\"2016-12-06T08:59:4-/codemove/KCCF7RYIFSW3\"\t[\"120.52.73.98\"]\n",
            "\"2016-12-06T08:59:4-/codemove/KD46GH3JFZG0\"\t[\"123.30.108.67\"]\n",
            "\"2016-12-06T08:59:4-/codemove/KHH7IR49UK2M\"\t[\"120.52.73.98\"]\n",
            "\"2016-12-06T08:59:4-/codemove/KIPYVDMQRXNG\"\t[\"120.52.73.97\"]\n",
            "\n",
            "==> results/part-00002 <==\n",
            "\"2016-12-06T09:00:3-/codemove/T7KLMP5M84Q2\"\t[\"202.106.16.36\"]\n",
            "\"2016-12-06T09:00:3-/codemove/TEZPXZLIX0LO\"\t[\"2001:41d0:8:e7b5::1\"]\n",
            "\"2016-12-06T09:00:3-/codemove/TL8FRE2NU2H4\"\t[\"202.170.126.68\"]\n",
            "\"2016-12-06T09:00:3-/codemove/TYVRFD3NGGXK\"\t[\"2a01:488:66:1000:5c33:8503:0:1\"]\n",
            "\"2016-12-06T09:00:3-/codemove/U21PUFAYQI66\"\t[\"120.52.73.97\"]\n",
            "\"2016-12-06T09:00:3-/codemove/U6HZJ957UOHL\"\t[\"120.52.73.97\"]\n",
            "\"2016-12-06T09:00:3-/codemove/UEB2M8819GC0\"\t[\"120.52.73.97\"]\n",
            "\"2016-12-06T09:00:3-/codemove/UL5FZZBS1OMD\"\t[\"2a02:c207:2008:5497::1\"]\n",
            "\"2016-12-06T09:00:3-/codemove/UPP72ZXJ4VNE\"\t[\"192.241.151.220\"]\n",
            "\"2016-12-06T09:00:3-/codemove/UPVQ9X3JHLIC\"\t[\"120.52.73.97\"]\n",
            "\n",
            "==> results/part-00003 <==\n",
            "\"2016-12-06T09:01:2-/codemove/511WVAT67BR9\"\t[\"202.47.236.252\"]\n",
            "\"2016-12-06T09:01:2-/codemove/5D7QHEREDQKO\"\t[\"101.200.154.90\"]\n",
            "\"2016-12-06T09:01:2-/codemove/5U6X3SATPD5R\"\t[\"2a02:c207:2008:5973::1\"]\n",
            "\"2016-12-06T09:01:2-/codemove/5W4N1LBXBDQ9\"\t[\"201.18.115.114\"]\n",
            "\"2016-12-06T09:01:2-/codemove/68MT6YARSIYO\"\t[\"185.28.193.95\"]\n",
            "\"2016-12-06T09:01:2-/codemove/6GTXIA9YHX09\"\t[\"120.52.73.98\"]\n",
            "\"2016-12-06T09:01:2-/codemove/6L1IL3S7CSED\"\t[\"120.52.73.97\"]\n",
            "\"2016-12-06T09:01:2-/codemove/6ODH7YQB0ZAR\"\t[\"185.15.43.51\"]\n",
            "\"2016-12-06T09:01:2-/codemove/6QB6PIEUE6B4\"\t[\"119.29.232.113\"]\n",
            "\"2016-12-06T09:01:2-/codemove/6YE1TS13G4Q9\"\t[\"2a02:c207:2008:5497::1\"]\n"
          ]
        }
      ]
    }
  ],
  "metadata": {
    "kernelspec": {
      "display_name": "Python 3",
      "language": "python",
      "name": "python3"
    },
    "language_info": {
      "codemirror_mode": {
        "name": "ipython",
        "version": 3
      },
      "file_extension": ".py",
      "mimetype": "text/x-python",
      "name": "python",
      "nbconvert_exporter": "python",
      "pygments_lexer": "ipython3",
      "version": "3.7.3"
    },
    "colab": {
      "provenance": []
    }
  },
  "nbformat": 4,
  "nbformat_minor": 0
}