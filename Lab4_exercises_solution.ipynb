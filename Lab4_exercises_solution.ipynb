{
  "cells": [
    {
      "cell_type": "markdown",
      "metadata": {
        "id": "view-in-github",
        "colab_type": "text"
      },
      "source": [
        "<a href=\"https://colab.research.google.com/github/aavarela/SPBD_Labs/blob/main/Lab4_exercises_solution.ipynb\" target=\"_parent\"><img src=\"https://colab.research.google.com/assets/colab-badge.svg\" alt=\"Open In Colab\"/></a>"
      ]
    },
    {
      "cell_type": "markdown",
      "source": [
        "##2. Weblog Analysis\n",
        "\n",
        "Consider a set of log files captured during a DDOS (*Distributed Denial of Service*) attack, containing information for the web accesses performed during the attack to the server.\n",
        "\n",
        "The log files contain text lines as shown below, with TAB as the separator:\n",
        "\n",
        "date |IP_source | status_code | operation | URL | execution time |\n",
        "-|-|-|-|-|-\n",
        "timestamp  | string | int | string | string| float |\n",
        "2016-12-06T08:58:35.318+0000|37.139.9.11|404|GET|/codemove/TTCENCUFMH3C|0.026"
      ],
      "metadata": {
        "id": "rsJZWYlHZDJL"
      }
    },
    {
      "cell_type": "code",
      "source": [
        "#@title Download the dataset\n",
        "!wget -q -O web.log https://www.dropbox.com/s/0r8902uj9yum7dg/web.log?dl=0\n",
        "!head -3 web.log"
      ],
      "metadata": {
        "id": "WCWKj68qCOdA",
        "colab": {
          "base_uri": "https://localhost:8080/"
        },
        "outputId": "edbb1b55-a43a-4189-b5c1-c0cf8d44efe1"
      },
      "execution_count": null,
      "outputs": [
        {
          "output_type": "stream",
          "name": "stdout",
          "text": [
            "2016-12-06T08:58:35.318+0000 37.139.9.11 404 GET /codemove/TTCENCUFMH3C 0.026  \n",
            "2016-12-06T08:58:35.356+0000 178.22.148.122 404 GET /codemove/PSO83TYKET12 0.088  \n",
            "2016-12-06T08:58:35.357+0000 178.22.148.122 404 GET /codemove/PSO83TYKET12 0.088  \n"
          ]
        }
      ]
    },
    {
      "cell_type": "markdown",
      "source": [
        "2.1. Count the number of unique IP addresses involved in the DDOS attack.\n"
      ],
      "metadata": {
        "id": "N1-ojIAqCftf"
      }
    },
    {
      "cell_type": "code",
      "source": [
        "import pyspark\n",
        "from pyspark.sql import SparkSession\n",
        "\n",
        "spark = SparkSession \\\n",
        "    .builder \\\n",
        "    .appName(\"WebLogExample2.1 version1\") \\\n",
        "    .getOrCreate()\n",
        "\n",
        "sc = spark.sparkContext\n",
        "\n",
        "try:\n",
        "  lines = sc.textFile('web.log') \\\n",
        "          .filter( lambda line : len( line ) > 0 ) \\\n",
        "          .map( lambda line : line.strip().split(' ') ) \\\n",
        "          .filter( lambda parts : len(parts) == 6 )\n",
        "\n",
        "  for line in lines.take( 3 ) :\n",
        "      print( line )\n",
        "\n",
        "  ips = lines.map(lambda parts: parts[1]) \\\n",
        "        .map( lambda ip : (ip, None )) \\\n",
        "        .reduceByKey( lambda a, b : None ) \\\n",
        "        .map( lambda ip : ip[0]) \\\n",
        "        .map( lambda ip : ( None, 1)) \\\n",
        "        .reduceByKey( lambda a, b : a + b) \\\n",
        "        .map( lambda c : c[1]) \\\n",
        "\n",
        "  for ip in ips.take(10):\n",
        "    print(ip)\n",
        "\n",
        "except Exception as e:\n",
        "  print(e)"
      ],
      "metadata": {
        "id": "Y7XoyNETChb-",
        "colab": {
          "base_uri": "https://localhost:8080/"
        },
        "outputId": "7bf3777f-020c-46ca-a017-bcacd1c52da6"
      },
      "execution_count": null,
      "outputs": [
        {
          "output_type": "stream",
          "name": "stdout",
          "text": [
            "['2016-12-06T08:58:35.318+0000', '37.139.9.11', '404', 'GET', '/codemove/TTCENCUFMH3C', '0.026']\n",
            "['2016-12-06T08:58:35.356+0000', '178.22.148.122', '404', 'GET', '/codemove/PSO83TYKET12', '0.088']\n",
            "['2016-12-06T08:58:35.357+0000', '178.22.148.122', '404', 'GET', '/codemove/PSO83TYKET12', '0.088']\n",
            "167\n"
          ]
        }
      ]
    },
    {
      "cell_type": "code",
      "source": [
        "import pyspark\n",
        "from pyspark.sql import SparkSession\n",
        "\n",
        "spark = SparkSession \\\n",
        "    .builder \\\n",
        "    .appName(\"WebLogExample2.1 version2\") \\\n",
        "    .getOrCreate()\n",
        "\n",
        "sc = spark.sparkContext\n",
        "\n",
        "try:\n",
        "  lines = sc.textFile('web.log') \\\n",
        "          .filter( lambda line : len( line ) > 0 ) \\\n",
        "          .map( lambda line : line.strip().split(' ') ) \\\n",
        "          .filter( lambda parts : len(parts) == 6 )\n",
        "\n",
        "  for line in lines.take( 3 ) :\n",
        "      print( line )\n",
        "\n",
        "  ips = lines.map(lambda parts: parts[1]) \\\n",
        "        .distinct() \\\n",
        "        .map( lambda _ : ( None, 1)) \\\n",
        "        .reduceByKey( lambda a, b : a + b) \\\n",
        "        .map( lambda c : c[1]) \\\n",
        "\n",
        "  for ip in ips.take(10):\n",
        "    print(ip)\n",
        "\n",
        "except Exception as e:\n",
        "  print(e)"
      ],
      "metadata": {
        "colab": {
          "base_uri": "https://localhost:8080/"
        },
        "id": "XkTFu_fEGO-S",
        "outputId": "15608733-8723-472a-ed9b-425b061ac82f"
      },
      "execution_count": null,
      "outputs": [
        {
          "output_type": "stream",
          "name": "stdout",
          "text": [
            "['2016-12-06T08:58:35.318+0000', '37.139.9.11', '404', 'GET', '/codemove/TTCENCUFMH3C', '0.026']\n",
            "['2016-12-06T08:58:35.356+0000', '178.22.148.122', '404', 'GET', '/codemove/PSO83TYKET12', '0.088']\n",
            "['2016-12-06T08:58:35.357+0000', '178.22.148.122', '404', 'GET', '/codemove/PSO83TYKET12', '0.088']\n",
            "167\n"
          ]
        }
      ]
    },
    {
      "cell_type": "markdown",
      "source": [
        "2.2. For each interval of 10 seconds, provide the following information: [number of requests, average execution time, maximum time, minimum time]"
      ],
      "metadata": {
        "id": "ZJ5TzPdACgQ-"
      }
    },
    {
      "cell_type": "code",
      "source": [
        "import pyspark\n",
        "from pyspark.sql import SparkSession\n",
        "\n",
        "spark = SparkSession \\\n",
        "    .builder \\\n",
        "    .appName(\"WebLogExample2.1\") \\\n",
        "    .getOrCreate()\n",
        "\n",
        "sc = spark.sparkContext\n",
        "\n",
        "try:\n",
        "  lines = sc.textFile('web.log') \\\n",
        "          .filter( lambda line : len( line ) > 0 ) \\\n",
        "          .map( lambda line : line.strip().split(' ') ) \\\n",
        "          .filter( lambda parts : len(parts) == 6 )\n",
        "\n",
        "  intervals = lines.map( lambda parts : (parts[0][0:18], (1, float(parts[5]), float(parts[5]), float(parts[5])))) \\\n",
        "          .reduceByKey( lambda a, b : (a[0] + b[0], max(a[1], b[1]), min(a[2], b[2]), a[3] + b[3])) \\\n",
        "          .map( lambda t : (t[0], (t[1][0], t[1][3] / t[1][0], t[1][1], t[1][2])))\n",
        "\n",
        "  for i in intervals.take(10):\n",
        "    print(i)\n",
        "\n",
        "except Exception as e:\n",
        "  print(e)"
      ],
      "metadata": {
        "id": "M8UVCwcdCwTG",
        "colab": {
          "base_uri": "https://localhost:8080/"
        },
        "outputId": "a7c4213d-dddb-4d28-d959-074ccc08745e"
      },
      "execution_count": null,
      "outputs": [
        {
          "output_type": "stream",
          "name": "stdout",
          "text": [
            "('2016-12-06T08:58:3', (483, 7.5934244306418215, 46.849, 0.013))\n",
            "('2016-12-06T08:58:4', (2611, 30.159845653006503, 69.654, 0.014))\n",
            "('2016-12-06T08:58:5', (5500, 38.52511163636371, 80.846, 0.017))\n",
            "('2016-12-06T08:59:4', (7947, 7.761815779539431, 65.706, 0.914))\n",
            "('2016-12-06T09:00:0', (6882, 8.649971519907023, 45.314, 0.017))\n",
            "('2016-12-06T09:00:1', (9719, 7.857372672085602, 34.406, 0.225))\n",
            "('2016-12-06T09:00:3', (6771, 1.6047638458130256, 26.53, 0.007))\n",
            "('2016-12-06T09:01:2', (5315, 0.1536705550329246, 1.361, 0.005))\n",
            "('2016-12-06T09:01:3', (6163, 0.11656384877494576, 1.117, 0.005))\n",
            "('2016-12-06T09:01:5', (3343, 0.0984113072090947, 1.098, 0.005))\n"
          ]
        }
      ]
    },
    {
      "cell_type": "markdown",
      "source": [
        "2.3. Create an inverted index that, for each interval of 10 seconds, has a list of (unique) IPs executing accesses (to each URL)."
      ],
      "metadata": {
        "id": "jUHmctaICgtV"
      }
    },
    {
      "cell_type": "code",
      "source": [
        "import pyspark\n",
        "from pyspark.sql import SparkSession\n",
        "\n",
        "spark = SparkSession \\\n",
        "    .builder \\\n",
        "    .appName(\"WebLogExample2.1\") \\\n",
        "    .getOrCreate()\n",
        "\n",
        "sc = spark.sparkContext\n",
        "\n",
        "try:\n",
        "\n",
        "  lines = sc.textFile('web.log') \\\n",
        "          .filter( lambda line : len( line ) > 0 ) \\\n",
        "          .map( lambda line : line.strip().split(' ') ) \\\n",
        "          .filter( lambda parts : len(parts) == 6 )\n",
        "\n",
        "  intervals = lines.map( lambda parts : (\"{}-{}\".format(parts[0][0:18], parts[4]), { parts[1] } )) \\\n",
        "              .reduceByKey( lambda a, b : a | b )\n",
        "\n",
        "  for i in intervals.take(10):\n",
        "    print(i)\n",
        "\n",
        "except Exception as e:\n",
        "  print(e)"
      ],
      "metadata": {
        "id": "RpXghha0C0jC",
        "colab": {
          "base_uri": "https://localhost:8080/"
        },
        "outputId": "2fa8849f-d4c2-4d1e-f37c-35d14aea3240"
      },
      "execution_count": null,
      "outputs": [
        {
          "output_type": "stream",
          "name": "stdout",
          "text": [
            "('2016-12-06T08:58:3-/codemove/PSO83TYKET12', {'178.22.148.122'})\n",
            "('2016-12-06T08:58:3-/codemove/1U6HCG3V2S9D', {'185.28.193.95'})\n",
            "('2016-12-06T08:58:3-/codemove/B35MFVKMU1C4', {'2002:894a:3a93:d:250:56ff:fe00:88c0'})\n",
            "('2016-12-06T08:58:3-/codemove/2CEBGK8M78Y7', {'192.241.151.220'})\n",
            "('2016-12-06T08:58:3-/codemove/ZBOWM9VZMHE1', {'2a02:c207:2008:5497::1'})\n",
            "('2016-12-06T08:58:3-/codemove/TYVRFD3NGGXK', {'2a01:488:66:1000:5c33:8503:0:1'})\n",
            "('2016-12-06T08:58:3-/codemove/BRPB8Y32OAGA', {'120.52.73.97'})\n",
            "('2016-12-06T08:58:3-/codemove/ICGPOQXLVXFS', {'120.52.73.97'})\n",
            "('2016-12-06T08:58:3-/codemove/BJJHJB8J8T7C', {'120.52.73.97'})\n",
            "('2016-12-06T08:58:3-/codemove/1N80W0N2R36C', {'120.52.73.97'})\n"
          ]
        }
      ]
    }
  ],
  "metadata": {
    "kernelspec": {
      "display_name": "Python 3",
      "language": "python",
      "name": "python3"
    },
    "language_info": {
      "codemirror_mode": {
        "name": "ipython",
        "version": 3
      },
      "file_extension": ".py",
      "mimetype": "text/x-python",
      "name": "python",
      "nbconvert_exporter": "python",
      "pygments_lexer": "ipython3",
      "version": "3.7.3"
    },
    "colab": {
      "provenance": [],
      "include_colab_link": true
    }
  },
  "nbformat": 4,
  "nbformat_minor": 0
}